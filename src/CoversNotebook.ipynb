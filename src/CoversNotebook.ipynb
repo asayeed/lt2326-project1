{
 "cells": [
  {
   "cell_type": "code",
   "execution_count": 1,
   "id": "6fe86f63-3149-4297-9696-42c0003e2e35",
   "metadata": {},
   "outputs": [],
   "source": [
    "import covers"
   ]
  },
  {
   "cell_type": "code",
   "execution_count": null,
   "id": "43da9e4f-b7ad-49e9-8378-302a72c5244b",
   "metadata": {},
   "outputs": [],
   "source": [
    "covertable = covers.get_covers_table(\"../data/main_dataset.csv\")"
   ]
  },
  {
   "cell_type": "code",
   "execution_count": null,
   "id": "2bb3e20b-129a-4004-9431-a70b16522cc0",
   "metadata": {},
   "outputs": [],
   "source": [
    "covertable"
   ]
  },
  {
   "cell_type": "code",
   "execution_count": null,
   "id": "353b8ebd-37ff-42d2-bd53-cab9146f56f4",
   "metadata": {},
   "outputs": [],
   "source": [
    "covertable.columns"
   ]
  },
  {
   "cell_type": "code",
   "execution_count": null,
   "id": "c6a3ef5a-a3d8-41ed-9a9f-13507b7e6097",
   "metadata": {},
   "outputs": [],
   "source": [
    "covertable['img_paths']"
   ]
  },
  {
   "cell_type": "code",
   "execution_count": null,
   "id": "6641df1b-a31b-446d-8895-3bf2ca6bb4dc",
   "metadata": {},
   "outputs": [],
   "source": [
    "categorylist = list(set(list(covertable['category'])))"
   ]
  },
  {
   "cell_type": "code",
   "execution_count": null,
   "id": "3bd2233c-8c1d-4857-9c43-b6032b5591c8",
   "metadata": {},
   "outputs": [],
   "source": [
    "categorylist"
   ]
  },
  {
   "cell_type": "code",
   "execution_count": null,
   "id": "d167373e-ac47-4e0f-a58f-7aa7fad00b2e",
   "metadata": {},
   "outputs": [],
   "source": [
    "categoryvals = list(range(len(categorylist)))"
   ]
  },
  {
   "cell_type": "code",
   "execution_count": null,
   "id": "b39499ff-fd91-41bd-824b-d754a8c7fa13",
   "metadata": {},
   "outputs": [],
   "source": [
    "categoryvals"
   ]
  },
  {
   "cell_type": "code",
   "execution_count": null,
   "id": "0c3c7849-5d9c-44d9-8302-f504b0be12f5",
   "metadata": {},
   "outputs": [],
   "source": [
    "cat2label = dict(zip(categorylist, categoryvals))"
   ]
  },
  {
   "cell_type": "code",
   "execution_count": null,
   "id": "7a928097-c1a4-4f9b-aaa7-41a62d316c35",
   "metadata": {},
   "outputs": [],
   "source": [
    "covertable['label'] = [cat2label[x] for x in covertable['category']]"
   ]
  },
  {
   "cell_type": "code",
   "execution_count": null,
   "id": "7f4f30f0-0be8-4c5d-bb2a-0932a2a59da8",
   "metadata": {},
   "outputs": [],
   "source": [
    "covertable['label']"
   ]
  },
  {
   "cell_type": "code",
   "execution_count": null,
   "id": "4a99729f-0939-4c33-acb5-018610b002a5",
   "metadata": {},
   "outputs": [],
   "source": [
    "cat2label"
   ]
  },
  {
   "cell_type": "code",
   "execution_count": null,
   "id": "1e09608a-7209-4a2d-bcc3-9ab72a085715",
   "metadata": {},
   "outputs": [],
   "source": [
    "covertable['category'][-10:]"
   ]
  },
  {
   "cell_type": "code",
   "execution_count": null,
   "id": "ba3d7194-6f18-47c4-8b62-be3aef19bbb7",
   "metadata": {},
   "outputs": [],
   "source": [
    "covertable.iloc[560]['img_paths']"
   ]
  },
  {
   "cell_type": "code",
   "execution_count": null,
   "id": "db20fa00-f0f7-4a14-b92c-e489f1d17ef3",
   "metadata": {},
   "outputs": [],
   "source": [
    "coversdataset = covers.CoversDataset(\"../data/main_dataset.csv\", \"../data/\", (300,200))"
   ]
  },
  {
   "cell_type": "code",
   "execution_count": null,
   "id": "dd7539c6-9077-4388-bad8-c76a627b57f2",
   "metadata": {},
   "outputs": [],
   "source": [
    "testrow = coversdataset[5]"
   ]
  },
  {
   "cell_type": "code",
   "execution_count": null,
   "id": "2498c81c-15fd-4216-8c20-77334245eb28",
   "metadata": {},
   "outputs": [],
   "source": [
    "testrow"
   ]
  },
  {
   "cell_type": "code",
   "execution_count": null,
   "id": "0694734f-bf2a-4e16-9b33-e2c82d6752e9",
   "metadata": {},
   "outputs": [],
   "source": [
    "coversdataset.cat2label"
   ]
  },
  {
   "cell_type": "code",
   "execution_count": null,
   "id": "565a6a2f-df7a-4994-bc95-ea66d7d409fd",
   "metadata": {},
   "outputs": [],
   "source": [
    "from torchvision.transforms import ToPILImage"
   ]
  },
  {
   "cell_type": "code",
   "execution_count": null,
   "id": "abdcbd85-2b29-4917-8d3a-d7e222b4246b",
   "metadata": {},
   "outputs": [],
   "source": [
    "pilimagizer = ToPILImage()"
   ]
  },
  {
   "cell_type": "code",
   "execution_count": null,
   "id": "c0eeac3e-947a-4dae-88c2-64b2ffe50096",
   "metadata": {},
   "outputs": [],
   "source": [
    "from matplotlib.pyplot import show"
   ]
  },
  {
   "cell_type": "code",
   "execution_count": null,
   "id": "13a186da-6361-443f-b484-39f4acd15ca0",
   "metadata": {},
   "outputs": [],
   "source": [
    "show(pilimagizer(testrow[0]))"
   ]
  },
  {
   "cell_type": "code",
   "execution_count": null,
   "id": "881e6947-c2da-46af-9796-2d76b98c87a5",
   "metadata": {},
   "outputs": [],
   "source": [
    "pilimagizer(testrow[0])"
   ]
  },
  {
   "cell_type": "code",
   "execution_count": null,
   "id": "c4b6b695-7431-4895-8a2f-e935e8b6b0fd",
   "metadata": {},
   "outputs": [],
   "source": [
    "testrow[0]"
   ]
  },
  {
   "cell_type": "code",
   "execution_count": null,
   "id": "c5a9a18d-c0a2-4a43-809e-d8d36a6469c7",
   "metadata": {},
   "outputs": [],
   "source": [
    "import torch"
   ]
  },
  {
   "cell_type": "code",
   "execution_count": null,
   "id": "e727915c-6def-44c8-b2d0-b5c21c759fe6",
   "metadata": {},
   "outputs": [],
   "source": [
    "randomvec = torch.randn(32)"
   ]
  },
  {
   "cell_type": "code",
   "execution_count": null,
   "id": "1ae3ac0a-d723-4216-9f7a-12634a1f33ec",
   "metadata": {},
   "outputs": [],
   "source": [
    "randomvec"
   ]
  },
  {
   "cell_type": "code",
   "execution_count": null,
   "id": "1b465730-5718-41b5-bc2e-c9182f76b7df",
   "metadata": {},
   "outputs": [],
   "source": [
    "import torch.nn"
   ]
  },
  {
   "cell_type": "code",
   "execution_count": null,
   "id": "24184972-11d6-44e9-aa7f-8e3e7cfe0670",
   "metadata": {},
   "outputs": [],
   "source": [
    "rand2 = torch.softmax(randomvec, 0)"
   ]
  },
  {
   "cell_type": "code",
   "execution_count": null,
   "id": "b16cdf81-0b54-4a0a-9c52-2d8584669f00",
   "metadata": {},
   "outputs": [],
   "source": [
    "rand2"
   ]
  },
  {
   "cell_type": "code",
   "execution_count": null,
   "id": "ef2d19b5-9bf6-4d85-9302-52f8408c24d6",
   "metadata": {},
   "outputs": [],
   "source": [
    "sum(rand2)"
   ]
  },
  {
   "cell_type": "code",
   "execution_count": null,
   "id": "913e6793-732b-472b-99e6-7253bfeff731",
   "metadata": {},
   "outputs": [],
   "source": [
    "rand3 = torch.log_softmax(randomvec, 0)"
   ]
  },
  {
   "cell_type": "code",
   "execution_count": null,
   "id": "5076991b-cf1e-4248-a178-d8df81e053de",
   "metadata": {},
   "outputs": [],
   "source": [
    "rand3"
   ]
  },
  {
   "cell_type": "code",
   "execution_count": null,
   "id": "ca3f5cdf-c621-4082-9c17-71f79466e799",
   "metadata": {},
   "outputs": [],
   "source": [
    "sum(rand3)"
   ]
  },
  {
   "cell_type": "code",
   "execution_count": null,
   "id": "1c9c92f0-fbe9-43ce-97ff-26962c5e8a20",
   "metadata": {},
   "outputs": [],
   "source": [
    "torch.randn((32))"
   ]
  },
  {
   "cell_type": "code",
   "execution_count": null,
   "id": "2f865457-d03b-44c3-91f5-41b93a708765",
   "metadata": {},
   "outputs": [],
   "source": [
    "torch.randn((1,32))"
   ]
  },
  {
   "cell_type": "code",
   "execution_count": null,
   "id": "e7cbe1ef-d2d2-4929-b66f-6ccf5740381c",
   "metadata": {},
   "outputs": [],
   "source": [
    "testrow[0].size()"
   ]
  },
  {
   "cell_type": "code",
   "execution_count": null,
   "id": "d26e641e-cbab-43b7-aa26-4c33fb6a1b85",
   "metadata": {},
   "outputs": [],
   "source": [
    "fakedata = torch.randn((4,3,300,200))"
   ]
  },
  {
   "cell_type": "code",
   "execution_count": null,
   "id": "9f3eb637-940d-4577-845b-cae97c5720e4",
   "metadata": {},
   "outputs": [],
   "source": [
    "torch.randn((50,33))"
   ]
  },
  {
   "cell_type": "code",
   "execution_count": null,
   "id": "2bf34dcb-cd96-4dd6-a662-f52a4a04fea1",
   "metadata": {},
   "outputs": [],
   "source": [
    "fakemodel = covers.CoversGenreModel(33)"
   ]
  },
  {
   "cell_type": "code",
   "execution_count": null,
   "id": "4b89d049-1c47-4fc6-a3ea-4b14cdce343c",
   "metadata": {},
   "outputs": [],
   "source": [
    "fakedata"
   ]
  },
  {
   "cell_type": "code",
   "execution_count": null,
   "id": "ed087d07-10f7-4563-a766-47a3fe757ba8",
   "metadata": {},
   "outputs": [],
   "source": [
    "fakeoutput = fakemodel(fakedata)"
   ]
  },
  {
   "cell_type": "code",
   "execution_count": null,
   "id": "9d53a788-aacb-43cb-a924-ef605984c6ab",
   "metadata": {},
   "outputs": [],
   "source": [
    "fakeoutput.size()"
   ]
  },
  {
   "cell_type": "code",
   "execution_count": null,
   "id": "1d6bbb51-ba62-4b0e-8146-212d6a7a7b14",
   "metadata": {},
   "outputs": [],
   "source": [
    "convlayer = torch.nn.Conv2d(3, 1, (3,3), padding=1)"
   ]
  },
  {
   "cell_type": "code",
   "execution_count": null,
   "id": "0084951b-46af-47ca-ad90-e85ee9cf110a",
   "metadata": {},
   "outputs": [],
   "source": [
    "convoutput = convlayer(fakedata)"
   ]
  },
  {
   "cell_type": "code",
   "execution_count": null,
   "id": "d03abbb2-4000-47ef-9cb9-15b2ad5d1563",
   "metadata": {},
   "outputs": [],
   "source": [
    "convoutput.size()"
   ]
  },
  {
   "cell_type": "code",
   "execution_count": null,
   "id": "479719f0-2528-4194-8a16-a5e604c8487f",
   "metadata": {},
   "outputs": [],
   "source": [
    "convoutput.squeeze(1).size()"
   ]
  },
  {
   "cell_type": "code",
   "execution_count": null,
   "id": "c9b418b1-8cb5-47c2-9453-683f85727f1a",
   "metadata": {},
   "outputs": [],
   "source": [
    "convsqueeze = convoutput.squeeze(1)"
   ]
  },
  {
   "cell_type": "code",
   "execution_count": null,
   "id": "821e20e6-4c51-4d01-896b-4fec6fa5bc53",
   "metadata": {},
   "outputs": [],
   "source": [
    "convsqueeze.size()"
   ]
  },
  {
   "cell_type": "code",
   "execution_count": null,
   "id": "8eb7dd71-7140-4e19-99e0-8c466f7ff65e",
   "metadata": {},
   "outputs": [],
   "source": [
    "flattened = convsqueeze.view([4, 300*200])"
   ]
  },
  {
   "cell_type": "code",
   "execution_count": null,
   "id": "6af515a9-9e50-405d-9ee7-e1965dad4432",
   "metadata": {},
   "outputs": [],
   "source": [
    "convoutput"
   ]
  },
  {
   "cell_type": "code",
   "execution_count": null,
   "id": "8656a7b8-f5b3-4ffa-86dd-a00b3487f66c",
   "metadata": {},
   "outputs": [],
   "source": [
    "convoutput[2]"
   ]
  },
  {
   "cell_type": "code",
   "execution_count": null,
   "id": "58ab413f-d71e-4e91-9f09-1434f8f43686",
   "metadata": {},
   "outputs": [],
   "source": [
    "convoutput[2].size()"
   ]
  },
  {
   "cell_type": "code",
   "execution_count": null,
   "id": "c29e8f24-b736-42a4-b43a-153a143cde31",
   "metadata": {},
   "outputs": [],
   "source": [
    "torch.Tensor([[2,3]]).size()"
   ]
  },
  {
   "cell_type": "code",
   "execution_count": null,
   "id": "d45b62ee-e502-4387-bf4d-1523c4ea939b",
   "metadata": {},
   "outputs": [],
   "source": [
    "flattened.size()"
   ]
  },
  {
   "cell_type": "code",
   "execution_count": null,
   "id": "a779bf06-348f-488f-966d-bb7561965f33",
   "metadata": {},
   "outputs": [],
   "source": [
    "model = covers.CoversGenreModel(33, 300, 200)"
   ]
  },
  {
   "cell_type": "code",
   "execution_count": null,
   "id": "7a2256e8-c886-4fc8-9a97-fd20a44d063c",
   "metadata": {},
   "outputs": [],
   "source": [
    "model(testrow[0])"
   ]
  },
  {
   "cell_type": "code",
   "execution_count": null,
   "id": "2bd65aef-328b-4474-80ac-4d2de6e91438",
   "metadata": {},
   "outputs": [],
   "source": [
    "testrow[0]"
   ]
  },
  {
   "cell_type": "code",
   "execution_count": null,
   "id": "f3fada5c-41a9-4b7b-aa63-ac719ae40ed6",
   "metadata": {},
   "outputs": [],
   "source": [
    "testrow[0].size()"
   ]
  },
  {
   "cell_type": "code",
   "execution_count": null,
   "id": "a904e0de-42ff-4ddc-9527-79828e25ff00",
   "metadata": {},
   "outputs": [],
   "source": [
    "testrow[0].unsqueeze(0).size()"
   ]
  },
  {
   "cell_type": "code",
   "execution_count": null,
   "id": "c735aa21-92de-4d41-8159-d23e262cec0c",
   "metadata": {},
   "outputs": [],
   "source": [
    "testoutput = model(testrow[0].unsqueeze(0))"
   ]
  },
  {
   "cell_type": "code",
   "execution_count": null,
   "id": "e82c0e29-23f3-4b91-bde9-47e9d7351b07",
   "metadata": {},
   "outputs": [],
   "source": [
    "testrow[0].dtype"
   ]
  },
  {
   "cell_type": "code",
   "execution_count": null,
   "id": "23c1f178-368a-4e2d-b197-ab145878db12",
   "metadata": {},
   "outputs": [],
   "source": [
    "convlayer(testrow[0]).size()"
   ]
  },
  {
   "cell_type": "code",
   "execution_count": null,
   "id": "40634695-66bf-4ed0-8e54-5d84e9c7ee31",
   "metadata": {},
   "outputs": [],
   "source": [
    "testrow[1]"
   ]
  },
  {
   "cell_type": "code",
   "execution_count": null,
   "id": "c525c42e-0e96-42cc-bb0d-d3dfd190a89f",
   "metadata": {},
   "outputs": [],
   "source": [
    "loss = torch.nn.NLLLoss()"
   ]
  },
  {
   "cell_type": "code",
   "execution_count": null,
   "id": "93acafc8-04b5-463e-a222-768da0bf3e52",
   "metadata": {},
   "outputs": [],
   "source": [
    "myloss = loss(testoutput, torch.LongTensor([testrow[1]]))"
   ]
  },
  {
   "cell_type": "code",
   "execution_count": null,
   "id": "47ece33b-3b00-4cc5-939b-99bc6d597349",
   "metadata": {},
   "outputs": [],
   "source": [
    "testrow[1]"
   ]
  },
  {
   "cell_type": "code",
   "execution_count": null,
   "id": "b41898fd-3f1a-4956-8e01-46ab015902bf",
   "metadata": {},
   "outputs": [],
   "source": [
    "torch.Tensor([testrow[1]])"
   ]
  },
  {
   "cell_type": "code",
   "execution_count": null,
   "id": "68a645e1-8898-4ce8-a4fc-fc342c645c01",
   "metadata": {},
   "outputs": [],
   "source": [
    "myloss.backward()"
   ]
  },
  {
   "cell_type": "code",
   "execution_count": null,
   "id": "20d64f91-3cc2-4848-8b85-20ddab281979",
   "metadata": {},
   "outputs": [],
   "source": [
    "next(model.linear.parameters()).grad"
   ]
  },
  {
   "cell_type": "code",
   "execution_count": null,
   "id": "1abb8dd2-6cbb-4949-8282-1e44a0060c6b",
   "metadata": {},
   "outputs": [],
   "source": [
    "myloss"
   ]
  },
  {
   "cell_type": "code",
   "execution_count": null,
   "id": "5f33ec60-13a4-4fc6-bb0a-6d311161bdd0",
   "metadata": {},
   "outputs": [],
   "source": [
    "next(model.linear.parameters())"
   ]
  },
  {
   "cell_type": "code",
   "execution_count": null,
   "id": "62cf8ed4-45af-40e1-a15b-912cb504d0b3",
   "metadata": {},
   "outputs": [],
   "source": [
    "training_set, test_set = torch.utils.data.random_split(coversdataset, (0.7,0.3))"
   ]
  },
  {
   "cell_type": "code",
   "execution_count": null,
   "id": "3aa6ec70-99e1-4e23-a8d6-5866f78d5d62",
   "metadata": {},
   "outputs": [],
   "source": [
    "training_set[5]"
   ]
  },
  {
   "cell_type": "code",
   "execution_count": null,
   "id": "a1d153bd-d239-4c0a-a202-7cbb1a035622",
   "metadata": {},
   "outputs": [],
   "source": [
    "import tqdm"
   ]
  },
  {
   "cell_type": "code",
   "execution_count": null,
   "id": "39c68098-bbe0-4bbf-97a6-3f5e4565744f",
   "metadata": {},
   "outputs": [],
   "source": [
    "loader = torch.utils.data.DataLoader(coversdataset, batch_size=25, shuffle=True)"
   ]
  },
  {
   "cell_type": "code",
   "execution_count": null,
   "id": "80a45d45-0eba-4bd3-96df-c4c3c641c512",
   "metadata": {},
   "outputs": [],
   "source": [
    "loader_enum = enumerate(loader)"
   ]
  },
  {
   "cell_type": "code",
   "execution_count": null,
   "id": "5a6e9df6-b5cd-4dba-8a18-662b08496f50",
   "metadata": {},
   "outputs": [],
   "source": [
    "next(loader_enum)"
   ]
  },
  {
   "cell_type": "code",
   "execution_count": null,
   "id": "ff7c6f50-47a6-43ea-865e-a2cc9ad4ed42",
   "metadata": {},
   "outputs": [],
   "source": [
    "loader_output = next(loader_enum)"
   ]
  },
  {
   "cell_type": "code",
   "execution_count": null,
   "id": "06f496c6-d868-43a5-a761-583892f1f974",
   "metadata": {},
   "outputs": [],
   "source": [
    "loader_output[1][1]"
   ]
  },
  {
   "cell_type": "code",
   "execution_count": 2,
   "id": "077752c4-060d-4932-a3cb-afba0492b2a1",
   "metadata": {},
   "outputs": [],
   "source": [
    "train_set, test_set, model = covers.create_env(\"../data/main_dataset.csv\", \"../data/\", (300,200), actualsize=0.01)"
   ]
  },
  {
   "cell_type": "code",
   "execution_count": null,
   "id": "07a798e3-428c-4b05-98a3-e01a6c0cd0a3",
   "metadata": {},
   "outputs": [],
   "source": [
    "model"
   ]
  },
  {
   "cell_type": "code",
   "execution_count": 3,
   "id": "4974227b-560f-4555-96af-7540e778d60d",
   "metadata": {},
   "outputs": [
    {
     "name": "stderr",
     "output_type": "stream",
     "text": [
      "  0%|                                                     | 0/5 [00:00<?, ?it/s]/home/xsayas@GU.GU.SE/.local/lib/python3.11/site-packages/torchvision/transforms/functional.py:1603: UserWarning: The default value of the antialias parameter of all the resizing transforms (Resize(), RandomResizedCrop(), etc.) will change from None to True in v0.17, in order to be consistent across the PIL and Tensor backends. To suppress this warning, directly pass antialias=True (recommended, future default), antialias=None (current default, which means False for Tensors and True for PIL), or antialias=False (only works on Tensors - PIL will still use antialiasing). This also applies if you are using the inference transforms from the models weights: update the call to weights.transforms(antialias=True).\n",
      "  warnings.warn(\n",
      "100%|█████████████████████████████████████████████| 5/5 [00:11<00:00,  2.24s/it]\n"
     ]
    },
    {
     "name": "stdout",
     "output_type": "stream",
     "text": [
      "At epoch 0, we get loss 1688.2069473266602.\n"
     ]
    },
    {
     "name": "stderr",
     "output_type": "stream",
     "text": [
      "100%|█████████████████████████████████████████████| 5/5 [00:00<00:00,  5.09it/s]\n"
     ]
    },
    {
     "name": "stdout",
     "output_type": "stream",
     "text": [
      "At epoch 1, we get loss 1530.7977142333984.\n"
     ]
    },
    {
     "name": "stderr",
     "output_type": "stream",
     "text": [
      "100%|█████████████████████████████████████████████| 5/5 [00:01<00:00,  4.98it/s]\n"
     ]
    },
    {
     "name": "stdout",
     "output_type": "stream",
     "text": [
      "At epoch 2, we get loss 695.1732635498047.\n"
     ]
    },
    {
     "name": "stderr",
     "output_type": "stream",
     "text": [
      "100%|█████████████████████████████████████████████| 5/5 [00:01<00:00,  4.43it/s]\n"
     ]
    },
    {
     "name": "stdout",
     "output_type": "stream",
     "text": [
      "At epoch 3, we get loss 301.9839725494385.\n"
     ]
    },
    {
     "name": "stderr",
     "output_type": "stream",
     "text": [
      "100%|█████████████████████████████████████████████| 5/5 [00:00<00:00,  5.17it/s]\n"
     ]
    },
    {
     "name": "stdout",
     "output_type": "stream",
     "text": [
      "At epoch 4, we get loss 181.8507490158081.\n"
     ]
    },
    {
     "name": "stderr",
     "output_type": "stream",
     "text": [
      "100%|█████████████████████████████████████████████| 5/5 [00:00<00:00,  5.61it/s]\n"
     ]
    },
    {
     "name": "stdout",
     "output_type": "stream",
     "text": [
      "At epoch 5, we get loss 129.53413374419324.\n"
     ]
    },
    {
     "name": "stderr",
     "output_type": "stream",
     "text": [
      "100%|█████████████████████████████████████████████| 5/5 [00:01<00:00,  3.11it/s]\n"
     ]
    },
    {
     "name": "stdout",
     "output_type": "stream",
     "text": [
      "At epoch 6, we get loss 44.814183712005615.\n"
     ]
    },
    {
     "name": "stderr",
     "output_type": "stream",
     "text": [
      "100%|█████████████████████████████████████████████| 5/5 [00:01<00:00,  4.67it/s]\n"
     ]
    },
    {
     "name": "stdout",
     "output_type": "stream",
     "text": [
      "At epoch 7, we get loss 46.082524061203.\n"
     ]
    },
    {
     "name": "stderr",
     "output_type": "stream",
     "text": [
      "100%|█████████████████████████████████████████████| 5/5 [00:00<00:00,  5.13it/s]\n"
     ]
    },
    {
     "name": "stdout",
     "output_type": "stream",
     "text": [
      "At epoch 8, we get loss 7.312063694000244.\n"
     ]
    },
    {
     "name": "stderr",
     "output_type": "stream",
     "text": [
      "100%|█████████████████████████████████████████████| 5/5 [00:00<00:00,  5.75it/s]\n"
     ]
    },
    {
     "name": "stdout",
     "output_type": "stream",
     "text": [
      "At epoch 9, we get loss 6.980932980775833.\n"
     ]
    },
    {
     "name": "stderr",
     "output_type": "stream",
     "text": [
      "100%|█████████████████████████████████████████████| 5/5 [00:00<00:00,  5.87it/s]\n"
     ]
    },
    {
     "name": "stdout",
     "output_type": "stream",
     "text": [
      "At epoch 10, we get loss 3.4221680760383606.\n"
     ]
    },
    {
     "name": "stderr",
     "output_type": "stream",
     "text": [
      "100%|█████████████████████████████████████████████| 5/5 [00:00<00:00,  6.73it/s]\n"
     ]
    },
    {
     "name": "stdout",
     "output_type": "stream",
     "text": [
      "At epoch 11, we get loss 10.520961940288544.\n"
     ]
    },
    {
     "name": "stderr",
     "output_type": "stream",
     "text": [
      "100%|█████████████████████████████████████████████| 5/5 [00:00<00:00,  5.77it/s]\n"
     ]
    },
    {
     "name": "stdout",
     "output_type": "stream",
     "text": [
      "At epoch 12, we get loss 0.1906563473199956.\n"
     ]
    },
    {
     "name": "stderr",
     "output_type": "stream",
     "text": [
      "100%|█████████████████████████████████████████████| 5/5 [00:01<00:00,  4.98it/s]\n"
     ]
    },
    {
     "name": "stdout",
     "output_type": "stream",
     "text": [
      "At epoch 13, we get loss 19.134417815154166.\n"
     ]
    },
    {
     "name": "stderr",
     "output_type": "stream",
     "text": [
      "100%|█████████████████████████████████████████████| 5/5 [00:01<00:00,  4.64it/s]\n"
     ]
    },
    {
     "name": "stdout",
     "output_type": "stream",
     "text": [
      "At epoch 14, we get loss 11.210223108530045.\n"
     ]
    },
    {
     "name": "stderr",
     "output_type": "stream",
     "text": [
      "100%|█████████████████████████████████████████████| 5/5 [00:00<00:00,  5.79it/s]\n"
     ]
    },
    {
     "name": "stdout",
     "output_type": "stream",
     "text": [
      "At epoch 15, we get loss 4.566884607076645.\n"
     ]
    },
    {
     "name": "stderr",
     "output_type": "stream",
     "text": [
      "100%|█████████████████████████████████████████████| 5/5 [00:00<00:00,  6.23it/s]\n"
     ]
    },
    {
     "name": "stdout",
     "output_type": "stream",
     "text": [
      "At epoch 16, we get loss 4.475271135697053.\n"
     ]
    },
    {
     "name": "stderr",
     "output_type": "stream",
     "text": [
      "100%|█████████████████████████████████████████████| 5/5 [00:00<00:00,  5.16it/s]\n"
     ]
    },
    {
     "name": "stdout",
     "output_type": "stream",
     "text": [
      "At epoch 17, we get loss 1.6383904814720154.\n"
     ]
    },
    {
     "name": "stderr",
     "output_type": "stream",
     "text": [
      "100%|█████████████████████████████████████████████| 5/5 [00:00<00:00,  5.50it/s]\n"
     ]
    },
    {
     "name": "stdout",
     "output_type": "stream",
     "text": [
      "At epoch 18, we get loss 28.903905391693115.\n"
     ]
    },
    {
     "name": "stderr",
     "output_type": "stream",
     "text": [
      "100%|█████████████████████████████████████████████| 5/5 [00:00<00:00,  5.18it/s]\n"
     ]
    },
    {
     "name": "stdout",
     "output_type": "stream",
     "text": [
      "At epoch 19, we get loss 6.419250935316086.\n"
     ]
    },
    {
     "name": "stderr",
     "output_type": "stream",
     "text": [
      "100%|█████████████████████████████████████████████| 5/5 [00:00<00:00,  5.16it/s]\n"
     ]
    },
    {
     "name": "stdout",
     "output_type": "stream",
     "text": [
      "At epoch 20, we get loss 2.809007415996575.\n"
     ]
    },
    {
     "name": "stderr",
     "output_type": "stream",
     "text": [
      "100%|█████████████████████████████████████████████| 5/5 [00:00<00:00,  5.10it/s]\n"
     ]
    },
    {
     "name": "stdout",
     "output_type": "stream",
     "text": [
      "At epoch 21, we get loss 3.1716872453689575.\n"
     ]
    },
    {
     "name": "stderr",
     "output_type": "stream",
     "text": [
      "100%|█████████████████████████████████████████████| 5/5 [00:00<00:00,  5.63it/s]\n"
     ]
    },
    {
     "name": "stdout",
     "output_type": "stream",
     "text": [
      "At epoch 22, we get loss 2.9602328687906265.\n"
     ]
    },
    {
     "name": "stderr",
     "output_type": "stream",
     "text": [
      "100%|█████████████████████████████████████████████| 5/5 [00:01<00:00,  4.80it/s]\n"
     ]
    },
    {
     "name": "stdout",
     "output_type": "stream",
     "text": [
      "At epoch 23, we get loss 7.04601925611496.\n"
     ]
    },
    {
     "name": "stderr",
     "output_type": "stream",
     "text": [
      "100%|█████████████████████████████████████████████| 5/5 [00:01<00:00,  4.74it/s]"
     ]
    },
    {
     "name": "stdout",
     "output_type": "stream",
     "text": [
      "At epoch 24, we get loss 2.2715539932250977.\n"
     ]
    },
    {
     "name": "stderr",
     "output_type": "stream",
     "text": [
      "\n"
     ]
    }
   ],
   "source": [
    "covers.train(train_set, model)"
   ]
  },
  {
   "cell_type": "code",
   "execution_count": null,
   "id": "51c2a551-3acc-4e9e-a050-4923361486d5",
   "metadata": {},
   "outputs": [],
   "source": [
    "import torch\n",
    "a = torch.LongTensor(0)"
   ]
  },
  {
   "cell_type": "code",
   "execution_count": null,
   "id": "fd40f6e1-ba3e-4af3-ba3e-476c15370612",
   "metadata": {},
   "outputs": [],
   "source": [
    "a"
   ]
  },
  {
   "cell_type": "code",
   "execution_count": null,
   "id": "ce831065-9481-4bbc-9778-e53c611f9049",
   "metadata": {},
   "outputs": [],
   "source": [
    "a = torch.FloatTensor(6)"
   ]
  },
  {
   "cell_type": "code",
   "execution_count": null,
   "id": "fab4c34c-5c04-4ad0-b728-ca9614d3c44c",
   "metadata": {},
   "outputs": [],
   "source": [
    "a"
   ]
  },
  {
   "cell_type": "code",
   "execution_count": null,
   "id": "4247b5c9-d27c-4c97-b646-55d6c1928533",
   "metadata": {},
   "outputs": [],
   "source": [
    "torch.argmax(-a) == 5"
   ]
  },
  {
   "cell_type": "code",
   "execution_count": null,
   "id": "3e1fe9c5-410f-420f-989b-d666850e9b79",
   "metadata": {},
   "outputs": [],
   "source": [
    "a[0]"
   ]
  },
  {
   "cell_type": "code",
   "execution_count": 4,
   "id": "fd7651e5-5fbe-4e85-b5ad-93fb1fcdf819",
   "metadata": {},
   "outputs": [
    {
     "name": "stdout",
     "output_type": "stream",
     "text": [
      "Accuracy = 0.041237113402061855\n",
      "Confusion = [[0 0 0 0 0 0 1 0 0 0 0 0 0 0 0 0 0 1 2 0 0 1 0 0 0 0 0 0 1 0 0]\n",
      " [0 0 0 0 0 0 1 0 0 0 0 0 0 0 0 0 0 0 1 0 0 0 0 0 0 0 0 0 0 0 0]\n",
      " [0 0 0 0 0 0 0 0 0 0 0 0 0 0 0 0 0 0 0 0 2 1 0 0 0 0 0 0 0 0 0]\n",
      " [0 0 0 0 0 0 1 0 0 0 0 0 0 0 0 0 0 0 1 0 0 0 0 0 0 0 0 0 0 0 0]\n",
      " [0 0 0 0 0 0 0 0 0 0 0 0 0 0 0 0 0 0 0 0 0 0 0 1 0 0 0 0 0 0 0]\n",
      " [0 0 0 0 0 0 0 0 0 0 0 0 1 0 0 1 0 1 0 0 1 0 0 0 0 0 0 0 0 0 0]\n",
      " [0 0 0 0 0 0 0 0 1 0 0 0 1 0 0 0 0 1 0 0 0 0 0 0 0 0 0 0 0 0 0]\n",
      " [0 0 0 0 0 0 0 0 0 0 0 0 0 0 0 0 0 0 0 0 0 1 0 0 0 0 0 0 1 1 0]\n",
      " [0 0 0 0 0 0 0 0 1 0 0 0 0 0 0 0 0 1 0 0 0 1 0 0 0 0 0 0 0 0 0]\n",
      " [0 0 0 0 0 0 0 0 1 0 0 0 0 0 0 0 0 0 0 0 0 0 0 0 0 0 0 0 0 1 0]\n",
      " [0 0 0 0 0 0 0 0 0 0 0 0 0 0 0 0 0 0 1 0 0 0 0 0 0 0 0 0 0 0 0]\n",
      " [0 0 0 0 0 0 0 0 1 0 0 0 1 0 0 0 0 0 0 0 2 0 0 0 0 0 0 0 0 1 0]\n",
      " [0 0 0 0 0 1 0 0 0 0 0 0 0 0 0 0 0 0 0 0 2 0 0 0 0 0 0 0 0 0 0]\n",
      " [0 0 0 0 0 0 0 0 0 0 0 0 0 0 0 0 0 0 0 0 0 0 0 0 0 0 0 0 0 0 0]\n",
      " [0 0 0 0 0 0 0 0 0 0 0 0 0 0 0 0 0 0 0 0 1 0 0 0 0 0 0 1 0 0 0]\n",
      " [0 0 0 0 0 1 0 0 0 0 0 0 0 0 0 0 0 0 0 0 2 1 0 1 0 0 0 0 0 0 0]\n",
      " [0 0 0 0 0 0 0 0 0 0 0 0 0 0 0 1 0 1 0 0 1 0 0 0 0 0 0 0 1 0 0]\n",
      " [0 0 0 0 0 0 0 0 0 0 0 0 1 2 0 0 0 0 0 0 3 0 0 0 0 0 0 0 0 0 0]\n",
      " [0 0 0 0 0 0 0 0 0 0 0 0 0 0 0 0 0 0 0 0 0 0 0 0 0 0 0 0 0 0 0]\n",
      " [0 0 0 0 0 0 0 0 0 0 0 0 0 0 0 0 0 0 0 0 1 0 0 0 0 0 0 0 0 0 0]\n",
      " [0 1 0 0 0 0 0 0 1 0 0 0 0 0 0 0 0 0 2 0 1 0 0 0 0 0 0 0 0 0 0]\n",
      " [0 0 0 0 0 0 0 1 0 0 0 0 0 0 0 1 0 0 0 0 0 0 1 1 0 0 0 0 0 1 0]\n",
      " [0 0 0 0 0 0 0 0 2 0 0 0 0 0 0 0 0 0 0 0 1 0 0 0 0 0 0 0 0 0 0]\n",
      " [0 0 0 0 0 0 0 0 0 0 0 0 0 0 0 0 0 0 1 0 1 0 0 0 0 0 0 0 0 0 0]\n",
      " [0 0 0 0 0 0 0 0 0 0 0 0 0 0 0 0 0 0 0 0 1 0 0 0 0 0 0 0 0 2 0]\n",
      " [0 0 1 0 0 0 0 0 0 1 0 0 0 0 0 0 0 0 0 0 2 0 0 0 0 0 0 0 0 0 0]\n",
      " [0 0 0 0 0 0 0 0 1 0 0 0 0 0 0 0 0 0 0 0 2 0 0 0 0 0 0 0 0 0 0]\n",
      " [0 0 0 0 0 0 0 0 0 0 0 0 1 0 0 0 0 1 0 0 0 0 0 0 0 0 0 0 0 0 0]\n",
      " [0 0 0 0 0 0 0 0 1 0 0 0 0 0 0 0 0 0 0 0 1 0 1 0 0 0 0 1 1 0 0]\n",
      " [0 0 0 0 0 0 0 0 0 0 0 0 0 0 0 0 0 1 0 0 3 0 0 0 0 0 0 1 0 1 0]\n",
      " [0 0 0 0 0 0 0 0 0 0 0 0 0 0 0 0 0 0 0 0 1 1 0 0 0 0 0 1 0 0 0]]\n"
     ]
    },
    {
     "data": {
      "text/plain": [
       "(0.041237113402061855,\n",
       " array([[0, 0, 0, 0, 0, 0, 1, 0, 0, 0, 0, 0, 0, 0, 0, 0, 0, 1, 2, 0, 0, 1,\n",
       "         0, 0, 0, 0, 0, 0, 1, 0, 0],\n",
       "        [0, 0, 0, 0, 0, 0, 1, 0, 0, 0, 0, 0, 0, 0, 0, 0, 0, 0, 1, 0, 0, 0,\n",
       "         0, 0, 0, 0, 0, 0, 0, 0, 0],\n",
       "        [0, 0, 0, 0, 0, 0, 0, 0, 0, 0, 0, 0, 0, 0, 0, 0, 0, 0, 0, 0, 2, 1,\n",
       "         0, 0, 0, 0, 0, 0, 0, 0, 0],\n",
       "        [0, 0, 0, 0, 0, 0, 1, 0, 0, 0, 0, 0, 0, 0, 0, 0, 0, 0, 1, 0, 0, 0,\n",
       "         0, 0, 0, 0, 0, 0, 0, 0, 0],\n",
       "        [0, 0, 0, 0, 0, 0, 0, 0, 0, 0, 0, 0, 0, 0, 0, 0, 0, 0, 0, 0, 0, 0,\n",
       "         0, 1, 0, 0, 0, 0, 0, 0, 0],\n",
       "        [0, 0, 0, 0, 0, 0, 0, 0, 0, 0, 0, 0, 1, 0, 0, 1, 0, 1, 0, 0, 1, 0,\n",
       "         0, 0, 0, 0, 0, 0, 0, 0, 0],\n",
       "        [0, 0, 0, 0, 0, 0, 0, 0, 1, 0, 0, 0, 1, 0, 0, 0, 0, 1, 0, 0, 0, 0,\n",
       "         0, 0, 0, 0, 0, 0, 0, 0, 0],\n",
       "        [0, 0, 0, 0, 0, 0, 0, 0, 0, 0, 0, 0, 0, 0, 0, 0, 0, 0, 0, 0, 0, 1,\n",
       "         0, 0, 0, 0, 0, 0, 1, 1, 0],\n",
       "        [0, 0, 0, 0, 0, 0, 0, 0, 1, 0, 0, 0, 0, 0, 0, 0, 0, 1, 0, 0, 0, 1,\n",
       "         0, 0, 0, 0, 0, 0, 0, 0, 0],\n",
       "        [0, 0, 0, 0, 0, 0, 0, 0, 1, 0, 0, 0, 0, 0, 0, 0, 0, 0, 0, 0, 0, 0,\n",
       "         0, 0, 0, 0, 0, 0, 0, 1, 0],\n",
       "        [0, 0, 0, 0, 0, 0, 0, 0, 0, 0, 0, 0, 0, 0, 0, 0, 0, 0, 1, 0, 0, 0,\n",
       "         0, 0, 0, 0, 0, 0, 0, 0, 0],\n",
       "        [0, 0, 0, 0, 0, 0, 0, 0, 1, 0, 0, 0, 1, 0, 0, 0, 0, 0, 0, 0, 2, 0,\n",
       "         0, 0, 0, 0, 0, 0, 0, 1, 0],\n",
       "        [0, 0, 0, 0, 0, 1, 0, 0, 0, 0, 0, 0, 0, 0, 0, 0, 0, 0, 0, 0, 2, 0,\n",
       "         0, 0, 0, 0, 0, 0, 0, 0, 0],\n",
       "        [0, 0, 0, 0, 0, 0, 0, 0, 0, 0, 0, 0, 0, 0, 0, 0, 0, 0, 0, 0, 0, 0,\n",
       "         0, 0, 0, 0, 0, 0, 0, 0, 0],\n",
       "        [0, 0, 0, 0, 0, 0, 0, 0, 0, 0, 0, 0, 0, 0, 0, 0, 0, 0, 0, 0, 1, 0,\n",
       "         0, 0, 0, 0, 0, 1, 0, 0, 0],\n",
       "        [0, 0, 0, 0, 0, 1, 0, 0, 0, 0, 0, 0, 0, 0, 0, 0, 0, 0, 0, 0, 2, 1,\n",
       "         0, 1, 0, 0, 0, 0, 0, 0, 0],\n",
       "        [0, 0, 0, 0, 0, 0, 0, 0, 0, 0, 0, 0, 0, 0, 0, 1, 0, 1, 0, 0, 1, 0,\n",
       "         0, 0, 0, 0, 0, 0, 1, 0, 0],\n",
       "        [0, 0, 0, 0, 0, 0, 0, 0, 0, 0, 0, 0, 1, 2, 0, 0, 0, 0, 0, 0, 3, 0,\n",
       "         0, 0, 0, 0, 0, 0, 0, 0, 0],\n",
       "        [0, 0, 0, 0, 0, 0, 0, 0, 0, 0, 0, 0, 0, 0, 0, 0, 0, 0, 0, 0, 0, 0,\n",
       "         0, 0, 0, 0, 0, 0, 0, 0, 0],\n",
       "        [0, 0, 0, 0, 0, 0, 0, 0, 0, 0, 0, 0, 0, 0, 0, 0, 0, 0, 0, 0, 1, 0,\n",
       "         0, 0, 0, 0, 0, 0, 0, 0, 0],\n",
       "        [0, 1, 0, 0, 0, 0, 0, 0, 1, 0, 0, 0, 0, 0, 0, 0, 0, 0, 2, 0, 1, 0,\n",
       "         0, 0, 0, 0, 0, 0, 0, 0, 0],\n",
       "        [0, 0, 0, 0, 0, 0, 0, 1, 0, 0, 0, 0, 0, 0, 0, 1, 0, 0, 0, 0, 0, 0,\n",
       "         1, 1, 0, 0, 0, 0, 0, 1, 0],\n",
       "        [0, 0, 0, 0, 0, 0, 0, 0, 2, 0, 0, 0, 0, 0, 0, 0, 0, 0, 0, 0, 1, 0,\n",
       "         0, 0, 0, 0, 0, 0, 0, 0, 0],\n",
       "        [0, 0, 0, 0, 0, 0, 0, 0, 0, 0, 0, 0, 0, 0, 0, 0, 0, 0, 1, 0, 1, 0,\n",
       "         0, 0, 0, 0, 0, 0, 0, 0, 0],\n",
       "        [0, 0, 0, 0, 0, 0, 0, 0, 0, 0, 0, 0, 0, 0, 0, 0, 0, 0, 0, 0, 1, 0,\n",
       "         0, 0, 0, 0, 0, 0, 0, 2, 0],\n",
       "        [0, 0, 1, 0, 0, 0, 0, 0, 0, 1, 0, 0, 0, 0, 0, 0, 0, 0, 0, 0, 2, 0,\n",
       "         0, 0, 0, 0, 0, 0, 0, 0, 0],\n",
       "        [0, 0, 0, 0, 0, 0, 0, 0, 1, 0, 0, 0, 0, 0, 0, 0, 0, 0, 0, 0, 2, 0,\n",
       "         0, 0, 0, 0, 0, 0, 0, 0, 0],\n",
       "        [0, 0, 0, 0, 0, 0, 0, 0, 0, 0, 0, 0, 1, 0, 0, 0, 0, 1, 0, 0, 0, 0,\n",
       "         0, 0, 0, 0, 0, 0, 0, 0, 0],\n",
       "        [0, 0, 0, 0, 0, 0, 0, 0, 1, 0, 0, 0, 0, 0, 0, 0, 0, 0, 0, 0, 1, 0,\n",
       "         1, 0, 0, 0, 0, 1, 1, 0, 0],\n",
       "        [0, 0, 0, 0, 0, 0, 0, 0, 0, 0, 0, 0, 0, 0, 0, 0, 0, 1, 0, 0, 3, 0,\n",
       "         0, 0, 0, 0, 0, 1, 0, 1, 0],\n",
       "        [0, 0, 0, 0, 0, 0, 0, 0, 0, 0, 0, 0, 0, 0, 0, 0, 0, 0, 0, 0, 1, 1,\n",
       "         0, 0, 0, 0, 0, 1, 0, 0, 0]]))"
      ]
     },
     "execution_count": 4,
     "metadata": {},
     "output_type": "execute_result"
    }
   ],
   "source": [
    "covers.test(test_set, model)"
   ]
  },
  {
   "cell_type": "code",
   "execution_count": null,
   "id": "1746cf1a-995f-4139-aa6d-259d5612350d",
   "metadata": {},
   "outputs": [],
   "source": [
    "import torchmetrics"
   ]
  },
  {
   "cell_type": "code",
   "execution_count": null,
   "id": "9bfcb259-d0cd-4bf9-8772-5059b715a020",
   "metadata": {},
   "outputs": [],
   "source": [
    "import torcheval"
   ]
  },
  {
   "cell_type": "code",
   "execution_count": null,
   "id": "37c2b404-7ac6-4d71-93e4-4d09b3f9dced",
   "metadata": {},
   "outputs": [],
   "source": []
  }
 ],
 "metadata": {
  "kernelspec": {
   "display_name": "Python 3 (ipykernel)",
   "language": "python",
   "name": "python3"
  },
  "language_info": {
   "codemirror_mode": {
    "name": "ipython",
    "version": 3
   },
   "file_extension": ".py",
   "mimetype": "text/x-python",
   "name": "python",
   "nbconvert_exporter": "python",
   "pygments_lexer": "ipython3",
   "version": "3.11.5"
  }
 },
 "nbformat": 4,
 "nbformat_minor": 5
}
